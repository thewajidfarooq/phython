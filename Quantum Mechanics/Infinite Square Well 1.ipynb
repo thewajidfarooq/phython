{
 "cells": [
  {
   "cell_type": "code",
   "execution_count": null,
   "id": "b65fde4e-d560-499e-9a41-36514e73eb5e",
   "metadata": {},
   "outputs": [],
   "source": [
    "import numpy as np\n",
    "import matplotlib.pyplot as plt\n",
    "\n",
    "# Define constants\n",
    "L = 1.0  # Length of the box\n",
    "x = np.linspace(0, L, 1000)  # Position array within the box\n",
    "\n",
    "# Define the wavefunction for the infinite square well\n",
    "def psi(n, x, L):\n",
    "    return np.sqrt(2/L) * np.sin(n * np.pi * x/L)\n",
    "\n",
    "# Plot wavefunctions for the first few energy levels\n",
    "plt.figure(figsize=(15,8))\n",
    "for n in range(1, 4):  # Plotting for n = 1, 2, 3, 4\n",
    "    plt.plot(x, psi(n, x, L), label = f'n={n}')\n",
    "\n",
    "# Labeling the plot\n",
    "plt.title(\"Wavefunctions of a Particle in an Infinite Square Well\")\n",
    "plt.xlabel(\"Position x\")\n",
    "plt.ylabel(\"Wavefunction ψ(x)\")\n",
    "plt.legend()\n",
    "plt.grid()\n",
    "plt.show()\n"
   ]
  },
  {
   "cell_type": "code",
   "execution_count": null,
   "id": "7e39478a-619d-4f0e-befe-0bf583724df0",
   "metadata": {},
   "outputs": [],
   "source": []
  }
 ],
 "metadata": {
  "kernelspec": {
   "display_name": "Python 3 (ipykernel)",
   "language": "python",
   "name": "python3"
  },
  "language_info": {
   "codemirror_mode": {
    "name": "ipython",
    "version": 3
   },
   "file_extension": ".py",
   "mimetype": "text/x-python",
   "name": "python",
   "nbconvert_exporter": "python",
   "pygments_lexer": "ipython3",
   "version": "3.12.4"
  }
 },
 "nbformat": 4,
 "nbformat_minor": 5
}
