{
 "cells": [
  {
   "cell_type": "code",
   "execution_count": null,
   "id": "8ad926d3-841a-46ce-abe6-bc8e4582729f",
   "metadata": {},
   "outputs": [],
   "source": [
    "import numpy as np\n",
    "import matplotlib.pyplot as plt\n",
    "\n",
    "# Define constants\n",
    "L = 1.0  # Length of the box\n",
    "x = np.linspace(0, L, 1000)  # Position array within the box\n",
    "\n",
    "# Define the wavefunction for the infinite square well\n",
    "def psi(n, x, L):\n",
    "    return np.sqrt(2 / L) * np.sin(n * np.pi * x / L)\n",
    "\n",
    "# Plot wavefunctions for the first few energy levels in separate figures\n",
    "for n in range(1, 10):  # Plotting for n = 1, 2, 3, 4\n",
    "    plt.figure(figsize=(6, 4))  # Creates a new figure for each n\n",
    "    plt.plot(x, psi(n, x, L), label=f'n={n}')\n",
    "    plt.title(f\"Wavefunction for n={n} in an Infinite Square Well\")\n",
    "    plt.xlabel(\"Position x\")\n",
    "    plt.ylabel(\"Wavefunction ψ(x)\")\n",
    "    plt.legend()\n",
    "    plt.grid()\n",
    "    plt.show()\n"
   ]
  },
  {
   "cell_type": "code",
   "execution_count": null,
   "id": "6ed02409-f064-48f6-aa7f-2397efe94384",
   "metadata": {},
   "outputs": [],
   "source": []
  }
 ],
 "metadata": {
  "kernelspec": {
   "display_name": "Python 3 (ipykernel)",
   "language": "python",
   "name": "python3"
  },
  "language_info": {
   "codemirror_mode": {
    "name": "ipython",
    "version": 3
   },
   "file_extension": ".py",
   "mimetype": "text/x-python",
   "name": "python",
   "nbconvert_exporter": "python",
   "pygments_lexer": "ipython3",
   "version": "3.12.4"
  }
 },
 "nbformat": 4,
 "nbformat_minor": 5
}
