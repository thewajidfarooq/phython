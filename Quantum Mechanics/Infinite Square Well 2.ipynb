import numpy as np
import matplotlib.pyplot as plt

# Define constants
L = 1.0  # Length of the box
x = np.linspace(0, L, 1000)  # Position array within the box

# Define the wavefunction for the infinite square well
def psi(n, x, L):
    return np.sqrt(2 / L) * np.sin(n * np.pi * x / L)

# Plot wavefunctions for the first few energy levels in separate figures
for n in range(1, 10):  # Plotting for n = 1, 2, 3, 4
    plt.figure(figsize=(6, 4))  # Creates a new figure for each n
    plt.plot(x, psi(n, x, L), label=f'n={n}')
    plt.title(f"Wavefunction for n={n} in an Infinite Square Well")
    plt.xlabel("Position x")
    plt.ylabel("Wavefunction ψ(x)")
    plt.legend()
    plt.grid()
    plt.show()
