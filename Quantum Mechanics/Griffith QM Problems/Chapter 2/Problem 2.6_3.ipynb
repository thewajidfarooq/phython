{
 "cells": [
  {
   "cell_type": "code",
   "execution_count": 1,
   "id": "0da0c6d2-f2a7-4a4c-87b4-33a7680d05f7",
   "metadata": {},
   "outputs": [],
   "source": [
    "# Import necessary libraries\n",
    "import numpy as np\n",
    "import matplotlib.pyplot as plt\n",
    "\n",
    "# Use the TkAgg backend for interactive window output (useful for interactive sessions)\n",
    "plt.switch_backend('TkAgg')\n",
    "\n",
    "# Constants\n",
    "a = 1.0  # Width of the potential well\n",
    "ω = np.pi**2 / 2  # Simplified angular frequency ω = ℏπ²/2ma² with ℏ = m = 1\n",
    "ħ = 1.0  # Reduced Planck's constant (ℏ)\n",
    "\n",
    "# Time points for plotting\n",
    "t_values = np.linspace(0, 0.5, 100)  # Array of time values from 0 to 0.5 with 100 intervals\n",
    "\n",
    "# Initialize phase values (φ) and their corresponding LaTeX labels for the legend\n",
    "φ_values = [0, np.pi/2, np.pi, 3 * np.pi/2]  # φ values to be used in the plots\n",
    "φ_labels = [\n",
    "    r'$\\phi = 0$', \n",
    "    r'$\\phi = \\frac{\\pi}{2}$', \n",
    "    r'$\\phi = \\pi$', \n",
    "    r'$\\phi = \\frac{3\\pi}{2}$'\n",
    "]\n",
    "\n",
    "# Create a figure for the plot\n",
    "plt.figure(figsize=(10, 6))\n",
    "plt.title('Expectation Value of Momentum <p> vs Time for Different Phase Values φ', fontsize=14)\n",
    "plt.xlabel('Time', fontsize=12)\n",
    "plt.ylabel('<p>', fontsize=12)\n",
    "\n",
    "# Define line styles and colors for each plot to distinguish lines\n",
    "line_styles = ['-', '--', '-.', ':']  # Distinct line styles for each φ\n",
    "colors = ['blue', 'green', 'red', 'purple']  # Different colors for each φ\n",
    "\n",
    "# Calculate and plot the expectation value <p> for each φ over time\n",
    "for φ, label, style, color in zip(φ_values, φ_labels, line_styles, colors):\n",
    "    # Compute the expectation value <p> as a function of time for the given φ\n",
    "    expectation_p = (8*ħ * np.sin(3 * ω * t_values - φ)) / (3 * a)  # Expectation value calculation\n",
    "    # Plot the computed expectation value with a distinct line style and color\n",
    "    plt.plot(t_values, expectation_p, label=label, linestyle=style, color=color, linewidth=1)\n",
    "\n",
    "# Display the legend and grid for better visualization\n",
    "plt.legend()\n",
    "plt.grid(True)\n",
    "\n",
    "# Adjust the layout to fit everything nicely and show the plot\n",
    "plt.tight_layout()\n",
    "plt.show()"
   ]
  },
  {
   "cell_type": "code",
   "execution_count": null,
   "id": "e306e950-ed84-49ae-b0f7-793d1c1a74d4",
   "metadata": {},
   "outputs": [],
   "source": []
  }
 ],
 "metadata": {
  "kernelspec": {
   "display_name": "Python 3 (ipykernel)",
   "language": "python",
   "name": "python3"
  },
  "language_info": {
   "codemirror_mode": {
    "name": "ipython",
    "version": 3
   },
   "file_extension": ".py",
   "mimetype": "text/x-python",
   "name": "python",
   "nbconvert_exporter": "python",
   "pygments_lexer": "ipython3",
   "version": "3.12.4"
  }
 },
 "nbformat": 4,
 "nbformat_minor": 5
}
